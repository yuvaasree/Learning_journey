{
 "cells": [
  {
   "cell_type": "markdown",
   "metadata": {},
   "source": [
    "python functions:\n",
    "1. how to define a function\n",
    "2. calling a function\n",
    "3. arguments and parameters\n",
    "4. return and pass \n",
    "5. position and keyword only\n"
   ]
  }
 ],
 "metadata": {
  "language_info": {
   "name": "python"
  }
 },
 "nbformat": 4,
 "nbformat_minor": 2
}
